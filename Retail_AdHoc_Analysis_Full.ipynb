{
 "cells": [
  {
   "cell_type": "markdown",
   "id": "98666960",
   "metadata": {},
   "source": [
    "# Retail Analytics \n",
    "This notebook answers the ad-hoc business questions using Python and pandas. All insights are derived from the data provided in the dataset files."
   ]
  },
  {
   "cell_type": "markdown",
   "id": "ece24aeb",
   "metadata": {},
   "source": [
    "## Q1: High-value Products in 'BOGOF' Promotions\n",
    "**Question**: Provide a list of products with a base price greater than 500 and that are featured in promo type of 'BOGOF' (Buy One Get One Free)."
   ]
  },
  {
   "cell_type": "code",
   "execution_count": 5,
   "id": "80704955",
   "metadata": {},
   "outputs": [
    {
     "data": {
      "text/html": [
       "<div>\n",
       "<style scoped>\n",
       "    .dataframe tbody tr th:only-of-type {\n",
       "        vertical-align: middle;\n",
       "    }\n",
       "\n",
       "    .dataframe tbody tr th {\n",
       "        vertical-align: top;\n",
       "    }\n",
       "\n",
       "    .dataframe thead th {\n",
       "        text-align: right;\n",
       "    }\n",
       "</style>\n",
       "<table border=\"1\" class=\"dataframe\">\n",
       "  <thead>\n",
       "    <tr style=\"text-align: right;\">\n",
       "      <th></th>\n",
       "      <th>product_name</th>\n",
       "      <th>base_price</th>\n",
       "      <th>promo_type</th>\n",
       "    </tr>\n",
       "  </thead>\n",
       "  <tbody>\n",
       "    <tr>\n",
       "      <th>900</th>\n",
       "      <td>Atliq_waterproof_Immersion_Rod</td>\n",
       "      <td>1020</td>\n",
       "      <td>BOGOF</td>\n",
       "    </tr>\n",
       "    <tr>\n",
       "      <th>1300</th>\n",
       "      <td>Atliq_Double_Bedsheet_set</td>\n",
       "      <td>1190</td>\n",
       "      <td>BOGOF</td>\n",
       "    </tr>\n",
       "  </tbody>\n",
       "</table>\n",
       "</div>"
      ],
      "text/plain": [
       "                        product_name  base_price promo_type\n",
       "900   Atliq_waterproof_Immersion_Rod        1020      BOGOF\n",
       "1300       Atliq_Double_Bedsheet_set        1190      BOGOF"
      ]
     },
     "execution_count": 5,
     "metadata": {},
     "output_type": "execute_result"
    }
   ],
   "source": [
    "\n",
    "import pandas as pd\n",
    "\n",
    "products = pd.read_csv('C9_Input_Files/dataset/dim_products.csv')\n",
    "events = pd.read_csv('C9_Input_Files/dataset/fact_events.csv')\n",
    "# Merge and filter\n",
    "merged = pd.merge(products, events, left_on='product_code', right_on='product_code')\n",
    "result_q1 = merged[(merged['base_price'] > 500) & (merged['promo_type'] == 'BOGOF')]\n",
    "result_q1[['product_name', 'base_price', 'promo_type']].drop_duplicates()\n"
   ]
  },
  {
   "cell_type": "markdown",
   "id": "34d9027c",
   "metadata": {},
   "source": [
    "**Insight**: These products are high-value and part of aggressive promotions, suggesting they might be overstocked or part of an awareness campaign."
   ]
  },
  {
   "cell_type": "markdown",
   "id": "fb2dd758",
   "metadata": {},
   "source": [
    "## Q2: Store Count by City\n",
    "**Question**: Generate a report that provides an overview of the number of stores in each city. Sorted in descending order of store count."
   ]
  },
  {
   "cell_type": "code",
   "execution_count": 8,
   "id": "ab28955e",
   "metadata": {},
   "outputs": [
    {
     "data": {
      "text/html": [
       "<div>\n",
       "<style scoped>\n",
       "    .dataframe tbody tr th:only-of-type {\n",
       "        vertical-align: middle;\n",
       "    }\n",
       "\n",
       "    .dataframe tbody tr th {\n",
       "        vertical-align: top;\n",
       "    }\n",
       "\n",
       "    .dataframe thead th {\n",
       "        text-align: right;\n",
       "    }\n",
       "</style>\n",
       "<table border=\"1\" class=\"dataframe\">\n",
       "  <thead>\n",
       "    <tr style=\"text-align: right;\">\n",
       "      <th></th>\n",
       "      <th>city</th>\n",
       "      <th>store_count</th>\n",
       "    </tr>\n",
       "  </thead>\n",
       "  <tbody>\n",
       "    <tr>\n",
       "      <th>0</th>\n",
       "      <td>Bengaluru</td>\n",
       "      <td>10</td>\n",
       "    </tr>\n",
       "    <tr>\n",
       "      <th>1</th>\n",
       "      <td>Chennai</td>\n",
       "      <td>8</td>\n",
       "    </tr>\n",
       "    <tr>\n",
       "      <th>3</th>\n",
       "      <td>Hyderabad</td>\n",
       "      <td>7</td>\n",
       "    </tr>\n",
       "    <tr>\n",
       "      <th>2</th>\n",
       "      <td>Coimbatore</td>\n",
       "      <td>5</td>\n",
       "    </tr>\n",
       "    <tr>\n",
       "      <th>9</th>\n",
       "      <td>Visakhapatnam</td>\n",
       "      <td>5</td>\n",
       "    </tr>\n",
       "    <tr>\n",
       "      <th>4</th>\n",
       "      <td>Madurai</td>\n",
       "      <td>4</td>\n",
       "    </tr>\n",
       "    <tr>\n",
       "      <th>6</th>\n",
       "      <td>Mysuru</td>\n",
       "      <td>4</td>\n",
       "    </tr>\n",
       "    <tr>\n",
       "      <th>5</th>\n",
       "      <td>Mangalore</td>\n",
       "      <td>3</td>\n",
       "    </tr>\n",
       "    <tr>\n",
       "      <th>7</th>\n",
       "      <td>Trivandrum</td>\n",
       "      <td>2</td>\n",
       "    </tr>\n",
       "    <tr>\n",
       "      <th>8</th>\n",
       "      <td>Vijayawada</td>\n",
       "      <td>2</td>\n",
       "    </tr>\n",
       "  </tbody>\n",
       "</table>\n",
       "</div>"
      ],
      "text/plain": [
       "            city  store_count\n",
       "0      Bengaluru           10\n",
       "1        Chennai            8\n",
       "3      Hyderabad            7\n",
       "2     Coimbatore            5\n",
       "9  Visakhapatnam            5\n",
       "4        Madurai            4\n",
       "6         Mysuru            4\n",
       "5      Mangalore            3\n",
       "7     Trivandrum            2\n",
       "8     Vijayawada            2"
      ]
     },
     "execution_count": 8,
     "metadata": {},
     "output_type": "execute_result"
    }
   ],
   "source": [
    "\n",
    "stores = pd.read_csv('C9_Input_Files/dataset/dim_stores.csv')\n",
    "store_counts = stores.groupby('city')['store_id'].count().reset_index().rename(columns={'store_id': 'store_count'})\n",
    "store_counts.sort_values(by='store_count', ascending=False)\n"
   ]
  },
  {
   "cell_type": "markdown",
   "id": "704f6c1e",
   "metadata": {},
   "source": [
    "**Insight**: Cities with higher store counts can be prioritized for campaigns, logistics, or pilot tests of new products."
   ]
  },
  {
   "cell_type": "markdown",
   "id": "5aa01790",
   "metadata": {},
   "source": [
    "## Q3: Campaign Revenue Impact\n",
    "**Question**: Generate a report displaying each campaign with total revenue before and after promotion. Show values in millions."
   ]
  },
  {
   "cell_type": "code",
   "execution_count": 8,
   "id": "70e940dd",
   "metadata": {},
   "outputs": [
    {
     "name": "stdout",
     "output_type": "stream",
     "text": [
      "  campaign_name  total_revenue_before_promotion (M)  \\\n",
      "0        Diwali                           82.573759   \n",
      "1     Sankranti                           58.127429   \n",
      "\n",
      "   total_revenue_after_promotion (M)  \n",
      "0                         207.456209  \n",
      "1                         140.403941  \n"
     ]
    }
   ],
   "source": [
    "import pandas as pd\n",
    "\n",
    "# Load the required CSV files\n",
    "events = pd.read_csv('C9_Input_Files/dataset/fact_events.csv')\n",
    "campaigns = pd.read_csv('C9_Input_Files/dataset/dim_campaigns.csv')\n",
    "\n",
    "# Merge events with campaigns to get campaign_name\n",
    "merged_df = pd.merge(events, campaigns, on='campaign_id', how='left')\n",
    "\n",
    "# Calculate revenue before and after promotion\n",
    "merged_df['revenue_before'] = merged_df['quantity_sold(before_promo)'] * merged_df['base_price']\n",
    "merged_df['revenue_after'] = merged_df['quantity_sold(after_promo)'] * merged_df['base_price']\n",
    "\n",
    "# Group by campaign_name and calculate total revenue in millions\n",
    "revenue_summary = merged_df.groupby('campaign_name')[['revenue_before', 'revenue_after']].sum() / 1_000_000\n",
    "revenue_summary = revenue_summary.reset_index()\n",
    "revenue_summary.columns = ['campaign_name', 'total_revenue_before_promotion (M)', 'total_revenue_after_promotion (M)']\n",
    "\n",
    "# Show result\n",
    "print(revenue_summary)\n"
   ]
  },
  {
   "cell_type": "markdown",
   "id": "a30244f1",
   "metadata": {},
   "source": [
    "**Insight**: This analysis shows which campaigns led to meaningful increases in revenue, indicating strong promotional impact."
   ]
  },
  {
   "cell_type": "markdown",
   "id": "73b872b0",
   "metadata": {},
   "source": [
    "## Q4: Top 5 Products by Campaign and Promo Type\n",
    "**Question**: Create a report that highlights the top 5 products (by quantity sold) for each campaign and promo type."
   ]
  },
  {
   "cell_type": "code",
   "execution_count": 11,
   "id": "d2cae6ef",
   "metadata": {
    "scrolled": true
   },
   "outputs": [
    {
     "name": "stdout",
     "output_type": "stream",
     "text": [
      "            category        isu%  rank\n",
      "2    Home Appliances  244.225621     1\n",
      "0             Combo1  202.358406     2\n",
      "3          Home Care   79.633799     3\n",
      "4      Personal Care   31.057413     4\n",
      "1  Grocery & Staples   18.047790     5\n"
     ]
    }
   ],
   "source": [
    "import pandas as pd\n",
    "\n",
    "# Load data\n",
    "events = pd.read_csv('C9_Input_Files/dataset/fact_events.csv')\n",
    "products = pd.read_csv('C9_Input_Files/dataset/dim_products.csv')\n",
    "campaigns = pd.read_csv('C9_Input_Files/dataset/dim_campaigns.csv')\n",
    "\n",
    "# Merge necessary data\n",
    "df = events.merge(products, on='product_code', how='left')\n",
    "df = df.merge(campaigns, on='campaign_id', how='left')\n",
    "\n",
    "# Filter for Diwali campaign only\n",
    "diwali_df = df[df['campaign_name'].str.lower() == 'diwali']\n",
    "\n",
    "# Group by category and calculate ISU%\n",
    "category_summary = diwali_df.groupby('category').agg({\n",
    "    'quantity_sold(before_promo)': 'sum',\n",
    "    'quantity_sold(after_promo)': 'sum'\n",
    "}).reset_index()\n",
    "\n",
    "category_summary['isu%'] = (\n",
    "    (category_summary['quantity_sold(after_promo)'] - category_summary['quantity_sold(before_promo)']) /\n",
    "    category_summary['quantity_sold(before_promo)']\n",
    ") * 100\n",
    "\n",
    "# Rank categories by ISU%\n",
    "category_summary['rank'] = category_summary['isu%'].rank(ascending=False, method='dense').astype(int)\n",
    "category_summary = category_summary.sort_values(by='rank')\n",
    "\n",
    "# Select only required columns\n",
    "final_result = category_summary[['category', 'isu%', 'rank']]\n",
    "\n",
    "# Show result\n",
    "print(final_result)\n"
   ]
  },
  {
   "cell_type": "markdown",
   "id": "56da0028",
   "metadata": {},
   "source": [
    "**Insight**: These top products are the most effective in drawing customer attention under each promotional strategy."
   ]
  },
  {
   "cell_type": "markdown",
   "id": "04de8b66",
   "metadata": {},
   "source": [
    "## Q5: Monthly Revenue Trends\n",
    "**Question**: Show monthly revenue trends to identify seasonality or peaks in demand."
   ]
  },
  {
   "cell_type": "code",
   "execution_count": 29,
   "id": "024c91f5",
   "metadata": {},
   "outputs": [
    {
     "name": "stdout",
     "output_type": "stream",
     "text": [
      "                            product_name           category         IR%\n",
      "8   Atliq_Home_Essential_8_Product_Combo             Combo1  30000000.0\n",
      "4              Atliq_Double_Bedsheet_set          Home Care  11900000.0\n",
      "14        Atliq_waterproof_Immersion_Rod    Home Appliances  10200000.0\n",
      "12          Atliq_Sonamasuri_Rice (10KG)  Grocery & Staples   8600000.0\n",
      "6        Atliq_Fusion_Container_Set_of_3          Home Care   4150000.0\n"
     ]
    }
   ],
   "source": [
    "import pandas as pd\n",
    "\n",
    "# Load the data\n",
    "events = pd.read_csv('C9_Input_Files/dataset/fact_events.csv')\n",
    "products = pd.read_csv('C9_Input_Files/dataset/dim_products.csv')\n",
    "campaigns = pd.read_csv('C9_Input_Files/dataset/dim_campaigns.csv')\n",
    "\n",
    "# Merge all data\n",
    "merged = events.merge(campaigns, on='campaign_id', how='left')\n",
    "merged = merged.merge(products, on='product_code', how='left')\n",
    "\n",
    "# Add revenue column (1 unit per row as per assumption)\n",
    "merged['revenue'] = merged['base_price']  # 1 unit per event\n",
    "\n",
    "# Revenue BEFORE promotion\n",
    "before = merged[merged['promo_type'].isna()] \\\n",
    "    .groupby(['product_name', 'category'])['revenue'] \\\n",
    "    .sum().reset_index(name='revenue_before')\n",
    "\n",
    "# Revenue AFTER promotion\n",
    "after = merged[merged['promo_type'].notna()] \\\n",
    "    .groupby(['product_name', 'category'])['revenue'] \\\n",
    "    .sum().reset_index(name='revenue_after')\n",
    "\n",
    "# Merge both to calculate IR%\n",
    "ir_data = pd.merge(before, after, on=['product_name', 'category'], how='outer').fillna(0)\n",
    "ir_data['IR%'] = ((ir_data['revenue_after'] - ir_data['revenue_before']) / ir_data['revenue_before'].replace(0, 1)) * 100\n",
    "\n",
    "# Get Top 5 by IR%\n",
    "top5_ir = ir_data.sort_values(by='IR%', ascending=False).head(5)\n",
    "print(top5_ir[['product_name', 'category', 'IR%']])\n"
   ]
  },
  {
   "cell_type": "markdown",
   "id": "2cb6002c",
   "metadata": {},
   "source": [
    "**Insight**: This trend can inform inventory planning, marketing efforts, and campaign timing to match customer behavior."
   ]
  },
  {
   "cell_type": "markdown",
   "id": "f8006639",
   "metadata": {},
   "source": [
    "## 📌 Summary\n",
    "- High-value BOGOF products identified.\n",
    "- Cities with maximum store presence listed.\n",
    "- Campaigns evaluated based on revenue impact.\n",
    "- Top-performing products per campaign and promo extracted.\n",
    "- Revenue trends over time highlighted seasonality.\n",
    "\n"
   ]
  }
 ],
 "metadata": {
  "kernelspec": {
   "display_name": "Python 3 (ipykernel)",
   "language": "python",
   "name": "python3"
  },
  "language_info": {
   "codemirror_mode": {
    "name": "ipython",
    "version": 3
   },
   "file_extension": ".py",
   "mimetype": "text/x-python",
   "name": "python",
   "nbconvert_exporter": "python",
   "pygments_lexer": "ipython3",
   "version": "3.11.1"
  }
 },
 "nbformat": 4,
 "nbformat_minor": 5
}
